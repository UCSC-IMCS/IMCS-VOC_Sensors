{
 "cells": [
  {
   "cell_type": "code",
   "execution_count": null,
   "id": "deafda11",
   "metadata": {
    "scrolled": false
   },
   "outputs": [],
   "source": [
    "import serial\n",
    "import csv\n",
    "import time\n",
    "\n",
    "# Establish serial connection\n",
    "ser = serial.Serial('COM3', 115200)  \n",
    "\n",
    "# Open CSV file for writing\n",
    "with open('sensor_data.csv', 'w', newline='', encoding='utf-8') as csvfile:\n",
    "    fieldnames = ['Timestamp', 'mq2', 'mq3', 'mq5', 'mq6', 'mq8', 'mq9']\n",
    "    writer = csv.DictWriter(csvfile, fieldnames=fieldnames)\n",
    "    \n",
    "    writer.writeheader()\n",
    "\n",
    "    # Read and write data indefinitely\n",
    "    try:\n",
    "        while True:\n",
    "            # Read data from serial port\n",
    "            line = ser.readline().decode('utf-8').strip()\n",
    "            sensor_data = line.split()\n",
    "\n",
    "            # Get current timestamp\n",
    "            timestamp = time.strftime('%Y-%m-%d %H:%M:%S')\n",
    "\n",
    "            # Write data to CSV file\n",
    "            writer.writerow({'Timestamp': timestamp,\n",
    "                             'mq2': sensor_data[0].replace(',', ''), # Use correct keys\n",
    "                             'mq3': sensor_data[1].replace(',', ''),  \n",
    "                             'mq5': sensor_data[2].replace(',', ''),\n",
    "                             'mq6': sensor_data[3].replace(',', ''),\n",
    "                             'mq8': sensor_data[4].replace(',', ''),\n",
    "                             'mq9': sensor_data[5]\n",
    "#                              'mics_Vred': sensor_data[6].replace(',', ''),\n",
    "#                              'mics_Vnox': sensor_data[7].replace(',', ''),\n",
    "#                              'mq214': sensor_data[8]\n",
    "                            })\n",
    "            csvfile.flush()  # Ensure data is written immediately\n",
    "\n",
    "            # Print data to console\n",
    "            print(\"Data written to CSV:\", timestamp, sensor_data)\n",
    "\n",
    "    except KeyboardInterrupt:\n",
    "        print(\"Exiting...\")\n",
    "        ser.close()  # Close serial connection when exiting\n"
   ]
  },
  {
   "cell_type": "code",
   "execution_count": null,
   "id": "1f57d4cd",
   "metadata": {},
   "outputs": [],
   "source": []
  }
 ],
 "metadata": {
  "kernelspec": {
   "display_name": "Python 3",
   "language": "python",
   "name": "python3"
  },
  "language_info": {
   "codemirror_mode": {
    "name": "ipython",
    "version": 3
   },
   "file_extension": ".py",
   "mimetype": "text/x-python",
   "name": "python",
   "nbconvert_exporter": "python",
   "pygments_lexer": "ipython3",
   "version": "3.6.8"
  }
 },
 "nbformat": 4,
 "nbformat_minor": 5
}
